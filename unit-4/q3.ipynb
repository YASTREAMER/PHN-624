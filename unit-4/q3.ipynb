{
 "cells": [
  {
   "cell_type": "code",
   "execution_count": 1,
   "id": "8c3576b6",
   "metadata": {},
   "outputs": [
    {
     "name": "stdout",
     "output_type": "stream",
     "text": [
      "[1. 2.]\n",
      "[0 1 0 1]\n",
      "[-0. -0. -0. -0. -0. -0. -0. -0.]\n"
     ]
    }
   ],
   "source": [
    "import numpy as np\n",
    "import math\n",
    "from sympy.physics.wigner import clebsch_gordan\n",
    "from sympy import S\n",
    "\n",
    "# Kronecker delta\n",
    "def kronecker_del(a, b):\n",
    "    return 1 if a == b else 0\n",
    "\n",
    "# Proper CG function using sympy\n",
    "def CG(j1, m1, j2, m2, J, M):\n",
    "    return float(clebsch_gordan(S(j1), S(m1), S(j2), S(m2), S(J), S(M)).evalf())\n",
    "\n",
    "AT = 1\n",
    "\n",
    "j1 = 1/2\n",
    "j2 = 3/2\n",
    "\n",
    "def TBME(ja, jb, jc, jd):\n",
    "    na = 0\n",
    "    nb = 0\n",
    "    nc = 0\n",
    "    nd = 0\n",
    "\n",
    "    la = 1\n",
    "    lb = 1\n",
    "    lc = 1\n",
    "    ld = 1\n",
    "\n",
    "    J1 = np.arange(abs(ja - jb), (ja + jb) + 1, 1)\n",
    "    J2 = np.arange(abs(jc - jd), (jc + jd) + 1, 1)\n",
    "\n",
    "    J = np.intersect1d(J1, J2)\n",
    "\n",
    "    T = []\n",
    "\n",
    "    if ja == jb or jc == jd:\n",
    "        for i in range(np.size(J)):\n",
    "            if J[i] % 2 == 0:\n",
    "                T.append(1)\n",
    "            else:\n",
    "                T.append(0)\n",
    "    else:\n",
    "        for i in range(np.size(J)):\n",
    "            T.append(0)\n",
    "            T.append(1)\n",
    "\n",
    "    T = np.array(T)\n",
    "\n",
    "    elements = []\n",
    "    for i in range(np.size(J)):\n",
    "        for j in range(np.size(T)):\n",
    "            factor = ((-1) ** (na + nb + nc + nd)) * ((AT / (2 * (2 * J[i] + 1))) * math.sqrt(\n",
    "                (2 * ja + 1) * (2 * jb + 1) * (2 * jc + 1) * (2 * jd + 1) /\n",
    "                ((1 + kronecker_del(ja, jb)) * (1 + kronecker_del(jc, jd)))\n",
    "            ))\n",
    "            term1 = ((-1) ** (jb + jd + lb + ld)) * CG(jb, -1/2, ja, 1/2, J[i], 0) * CG(jd, -1/2, jc, 1/2, J[i], 0) * (1 - (-1) ** (la + lb + J[i] + T[j]))\n",
    "            term2 = CG(jb, 1/2, ja, 1/2, J[i], 1) * CG(jd, 1/2, jc, 1/2, J[i], 1) * (1 + (-1) ** T[j])\n",
    "            elements.append(factor * (term1 - term2))\n",
    "\n",
    "    print(J)\n",
    "    print(T)\n",
    "    elements = np.array(elements)\n",
    "    return elements\n",
    "\n",
    "a1 = TBME(j2, j1, j2, j1)\n",
    "print(a1)\n"
   ]
  },
  {
   "cell_type": "code",
   "execution_count": null,
   "id": "ee53b338",
   "metadata": {},
   "outputs": [],
   "source": []
  }
 ],
 "metadata": {
  "kernelspec": {
   "display_name": "Python 3",
   "language": "python",
   "name": "python3"
  },
  "language_info": {
   "codemirror_mode": {
    "name": "ipython",
    "version": 3
   },
   "file_extension": ".py",
   "mimetype": "text/x-python",
   "name": "python",
   "nbconvert_exporter": "python",
   "pygments_lexer": "ipython3",
   "version": "3.10.16"
  }
 },
 "nbformat": 4,
 "nbformat_minor": 5
}
